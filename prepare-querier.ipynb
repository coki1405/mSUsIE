{
 "cells": [
  {
   "cell_type": "code",
   "execution_count": 1,
   "metadata": {},
   "outputs": [],
   "source": [
    "import pandas as pd\n",
    "import regex as rg"
   ]
  },
  {
   "cell_type": "code",
   "execution_count": 2,
   "metadata": {},
   "outputs": [],
   "source": [
    "# generated using chatgpt https://chat.openai.com/share/dac47c97-03b0-4f84-ba16-fd31f513f87c\n",
    "\n",
    "qrels = pd.read_csv('data/qrels.csv')\n",
    "qrels=qrels[qrels['path'].apply(lambda p: 'Kate Hadfield' in p)]\n",
    "qrels.to_csv('data/qrels.csv', index=False)\n",
    "qrels\n",
    "\n",
    "qrels['path']=qrels['path'].str.strip().apply(lambda p: rg.sub(r\"^project/\",\"\",p))\n",
    "qrels\n",
    "\n",
    "qrels.to_csv('data/qrels_simplified.csv', index=False)"
   ]
  },
  {
   "cell_type": "code",
   "execution_count": 3,
   "metadata": {},
   "outputs": [],
   "source": [
    "queries = pd.read_csv('data/queries.csv')\n",
    "queries=queries[queries['qid'].apply(lambda qid: qid in qrels['qid'].to_list())]\n",
    "queries.to_csv('data/queries_simplified.csv',  index=False)"
   ]
  }
 ],
 "metadata": {
  "kernelspec": {
   "display_name": "everything",
   "language": "python",
   "name": "python3"
  },
  "language_info": {
   "codemirror_mode": {
    "name": "ipython",
    "version": 3
   },
   "file_extension": ".py",
   "mimetype": "text/x-python",
   "name": "python",
   "nbconvert_exporter": "python",
   "pygments_lexer": "ipython3",
   "version": "3.10.9"
  }
 },
 "nbformat": 4,
 "nbformat_minor": 2
}
