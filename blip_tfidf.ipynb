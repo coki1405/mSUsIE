{
 "cells": [
  {
   "cell_type": "code",
   "execution_count": 12,
   "metadata": {},
   "outputs": [
    {
     "name": "stdout",
     "output_type": "stream",
     "text": [
      "Collecting uform\n",
      "  Obtaining dependency information for uform from https://files.pythonhosted.org/packages/85/66/0b0f688e59e861b10d76231fd3fdedd68525a0b29b194cdce1500653b9d0/uform-1.0.3-py3-none-any.whl.metadata\n",
      "  Downloading uform-1.0.3-py3-none-any.whl.metadata (17 kB)\n",
      "Requirement already satisfied: torch>=1.13.1 in /opt/homebrew/Caskroom/miniconda/base/envs/everything/lib/python3.10/site-packages (from uform) (2.1.1)\n",
      "Requirement already satisfied: tokenizers>=0.13.3 in /opt/homebrew/Caskroom/miniconda/base/envs/everything/lib/python3.10/site-packages (from uform) (0.15.0)\n",
      "Requirement already satisfied: huggingface-hub>=0.16.4 in /opt/homebrew/Caskroom/miniconda/base/envs/everything/lib/python3.10/site-packages (from uform) (0.19.4)\n",
      "Collecting transformers>=4.36.2 (from uform)\n",
      "  Obtaining dependency information for transformers>=4.36.2 from https://files.pythonhosted.org/packages/20/0a/739426a81f7635b422fbe6cb8d1d99d1235579a6ac8024c13d743efa6847/transformers-4.36.2-py3-none-any.whl.metadata\n",
      "  Downloading transformers-4.36.2-py3-none-any.whl.metadata (126 kB)\n",
      "\u001b[2K     \u001b[90m━━━━━━━━━━━━━━━━━━━━━━━━━━━━━━━━━━━━━━━\u001b[0m \u001b[32m126.8/126.8 kB\u001b[0m \u001b[31m1.1 MB/s\u001b[0m eta \u001b[36m0:00:00\u001b[0ma \u001b[36m0:00:01\u001b[0m\n",
      "\u001b[?25hRequirement already satisfied: torchvision in /opt/homebrew/Caskroom/miniconda/base/envs/everything/lib/python3.10/site-packages (from uform) (0.16.1)\n",
      "Requirement already satisfied: filelock in /opt/homebrew/Caskroom/miniconda/base/envs/everything/lib/python3.10/site-packages (from huggingface-hub>=0.16.4->uform) (3.13.1)\n",
      "Requirement already satisfied: fsspec>=2023.5.0 in /opt/homebrew/Caskroom/miniconda/base/envs/everything/lib/python3.10/site-packages (from huggingface-hub>=0.16.4->uform) (2023.10.0)\n",
      "Requirement already satisfied: requests in /opt/homebrew/Caskroom/miniconda/base/envs/everything/lib/python3.10/site-packages (from huggingface-hub>=0.16.4->uform) (2.31.0)\n",
      "Requirement already satisfied: tqdm>=4.42.1 in /opt/homebrew/Caskroom/miniconda/base/envs/everything/lib/python3.10/site-packages (from huggingface-hub>=0.16.4->uform) (4.65.0)\n",
      "Requirement already satisfied: pyyaml>=5.1 in /opt/homebrew/Caskroom/miniconda/base/envs/everything/lib/python3.10/site-packages (from huggingface-hub>=0.16.4->uform) (6.0.1)\n",
      "Requirement already satisfied: typing-extensions>=3.7.4.3 in /opt/homebrew/Caskroom/miniconda/base/envs/everything/lib/python3.10/site-packages (from huggingface-hub>=0.16.4->uform) (4.8.0)\n",
      "Requirement already satisfied: packaging>=20.9 in /Users/benedikt/.local/lib/python3.10/site-packages (from huggingface-hub>=0.16.4->uform) (23.1)\n",
      "Requirement already satisfied: sympy in /opt/homebrew/Caskroom/miniconda/base/envs/everything/lib/python3.10/site-packages (from torch>=1.13.1->uform) (1.12)\n",
      "Requirement already satisfied: networkx in /opt/homebrew/Caskroom/miniconda/base/envs/everything/lib/python3.10/site-packages (from torch>=1.13.1->uform) (3.2.1)\n",
      "Requirement already satisfied: jinja2 in /opt/homebrew/Caskroom/miniconda/base/envs/everything/lib/python3.10/site-packages (from torch>=1.13.1->uform) (3.1.2)\n",
      "Requirement already satisfied: numpy>=1.17 in /opt/homebrew/Caskroom/miniconda/base/envs/everything/lib/python3.10/site-packages (from transformers>=4.36.2->uform) (1.23.5)\n",
      "Requirement already satisfied: regex!=2019.12.17 in /opt/homebrew/Caskroom/miniconda/base/envs/everything/lib/python3.10/site-packages (from transformers>=4.36.2->uform) (2023.3.23)\n",
      "Requirement already satisfied: safetensors>=0.3.1 in /opt/homebrew/Caskroom/miniconda/base/envs/everything/lib/python3.10/site-packages (from transformers>=4.36.2->uform) (0.4.1)\n",
      "Requirement already satisfied: pillow!=8.3.*,>=5.3.0 in /opt/homebrew/Caskroom/miniconda/base/envs/everything/lib/python3.10/site-packages (from torchvision->uform) (10.1.0)\n",
      "Requirement already satisfied: MarkupSafe>=2.0 in /opt/homebrew/Caskroom/miniconda/base/envs/everything/lib/python3.10/site-packages (from jinja2->torch>=1.13.1->uform) (2.1.3)\n",
      "Requirement already satisfied: charset-normalizer<4,>=2 in /opt/homebrew/Caskroom/miniconda/base/envs/everything/lib/python3.10/site-packages (from requests->huggingface-hub>=0.16.4->uform) (3.3.2)\n",
      "Requirement already satisfied: idna<4,>=2.5 in /opt/homebrew/Caskroom/miniconda/base/envs/everything/lib/python3.10/site-packages (from requests->huggingface-hub>=0.16.4->uform) (3.4)\n",
      "Requirement already satisfied: urllib3<3,>=1.21.1 in /opt/homebrew/Caskroom/miniconda/base/envs/everything/lib/python3.10/site-packages (from requests->huggingface-hub>=0.16.4->uform) (2.1.0)\n",
      "Requirement already satisfied: certifi>=2017.4.17 in /opt/homebrew/Caskroom/miniconda/base/envs/everything/lib/python3.10/site-packages (from requests->huggingface-hub>=0.16.4->uform) (2023.11.17)\n",
      "Requirement already satisfied: mpmath>=0.19 in /opt/homebrew/Caskroom/miniconda/base/envs/everything/lib/python3.10/site-packages (from sympy->torch>=1.13.1->uform) (1.3.0)\n",
      "Downloading uform-1.0.3-py3-none-any.whl (21 kB)\n",
      "Downloading transformers-4.36.2-py3-none-any.whl (8.2 MB)\n",
      "\u001b[2K   \u001b[90m━━━━━━━━━━━━━━━━━━━━━━━━━━━━━━━━━━━━━━━━\u001b[0m \u001b[32m8.2/8.2 MB\u001b[0m \u001b[31m596.1 kB/s\u001b[0m eta \u001b[36m0:00:00\u001b[0m00:01\u001b[0m00:01\u001b[0m\n",
      "\u001b[?25hInstalling collected packages: transformers, uform\n",
      "  Attempting uninstall: transformers\n",
      "    Found existing installation: transformers 4.35.2\n",
      "    Uninstalling transformers-4.35.2:\n",
      "      Successfully uninstalled transformers-4.35.2\n",
      "Successfully installed transformers-4.36.2 uform-1.0.3\n",
      "Note: you may need to restart the kernel to use updated packages.\n"
     ]
    }
   ],
   "source": [
    "%pip install uform"
   ]
  },
  {
   "cell_type": "code",
   "execution_count": 2,
   "metadata": {},
   "outputs": [],
   "source": [
    "import pandas as pd\n",
    "import numpy as np\n",
    "from sentence_transformers import SentenceTransformer\n",
    "from PIL import Image\n",
    "import torch\n",
    "import glob\n",
    "import regex as rg\n",
    "from tqdm.notebook import tqdm\n",
    "import matplotlib.pyplot as plt\n",
    "import math\n",
    "from sklearn.feature_extraction.text import TfidfVectorizer\n",
    "from sklearn.metrics.pairwise import cosine_similarity\n",
    "from sklearn.metrics import precision_score\n"
   ]
  },
  {
   "cell_type": "code",
   "execution_count": 3,
   "metadata": {},
   "outputs": [],
   "source": [
    "from helpers import *"
   ]
  },
  {
   "cell_type": "code",
   "execution_count": 4,
   "metadata": {},
   "outputs": [],
   "source": [
    "%load_ext autoreload\n",
    "%autoreload 2"
   ]
  },
  {
   "cell_type": "code",
   "execution_count": 5,
   "metadata": {},
   "outputs": [],
   "source": [
    "device='mps'"
   ]
  },
  {
   "cell_type": "code",
   "execution_count": 6,
   "metadata": {},
   "outputs": [],
   "source": [
    "ground_truth_de, ground_truth_en = create_ground_truth_dicts()"
   ]
  },
  {
   "cell_type": "code",
   "execution_count": 8,
   "metadata": {},
   "outputs": [],
   "source": [
    "from transformers import BlipProcessor, BlipForConditionalGeneration\n",
    "\n",
    "processor = BlipProcessor.from_pretrained(\"Salesforce/blip-image-captioning-large\")\n",
    "model = BlipForConditionalGeneration.from_pretrained(\"Salesforce/blip-image-captioning-large\").to(device)\n"
   ]
  },
  {
   "cell_type": "code",
   "execution_count": 22,
   "metadata": {},
   "outputs": [
    {
     "data": {
      "text/html": [
       "<div>\n",
       "<style scoped>\n",
       "    .dataframe tbody tr th:only-of-type {\n",
       "        vertical-align: middle;\n",
       "    }\n",
       "\n",
       "    .dataframe tbody tr th {\n",
       "        vertical-align: top;\n",
       "    }\n",
       "\n",
       "    .dataframe thead th {\n",
       "        text-align: right;\n",
       "    }\n",
       "</style>\n",
       "<table border=\"1\" class=\"dataframe\">\n",
       "  <thead>\n",
       "    <tr style=\"text-align: right;\">\n",
       "      <th></th>\n",
       "      <th>path</th>\n",
       "    </tr>\n",
       "  </thead>\n",
       "  <tbody>\n",
       "    <tr>\n",
       "      <th>0</th>\n",
       "      <td>data/Cliparts/01_Kate Hadfield/logo-cropped.png</td>\n",
       "    </tr>\n",
       "    <tr>\n",
       "      <th>1</th>\n",
       "      <td>data/Cliparts/01_Kate Hadfield/EggHunting/khad...</td>\n",
       "    </tr>\n",
       "    <tr>\n",
       "      <th>2</th>\n",
       "      <td>data/Cliparts/01_Kate Hadfield/EggHunting/khad...</td>\n",
       "    </tr>\n",
       "    <tr>\n",
       "      <th>3</th>\n",
       "      <td>data/Cliparts/01_Kate Hadfield/EggHunting/khad...</td>\n",
       "    </tr>\n",
       "    <tr>\n",
       "      <th>4</th>\n",
       "      <td>data/Cliparts/01_Kate Hadfield/EggHunting/khad...</td>\n",
       "    </tr>\n",
       "    <tr>\n",
       "      <th>...</th>\n",
       "      <td>...</td>\n",
       "    </tr>\n",
       "    <tr>\n",
       "      <th>8212</th>\n",
       "      <td>data/Cliparts/01_Kate Hadfield/DoctorsAndNurse...</td>\n",
       "    </tr>\n",
       "    <tr>\n",
       "      <th>8213</th>\n",
       "      <td>data/Cliparts/01_Kate Hadfield/DoctorsAndNurse...</td>\n",
       "    </tr>\n",
       "    <tr>\n",
       "      <th>8214</th>\n",
       "      <td>data/Cliparts/01_Kate Hadfield/DoctorsAndNurse...</td>\n",
       "    </tr>\n",
       "    <tr>\n",
       "      <th>8215</th>\n",
       "      <td>data/Cliparts/01_Kate Hadfield/DoctorsAndNurse...</td>\n",
       "    </tr>\n",
       "    <tr>\n",
       "      <th>8216</th>\n",
       "      <td>data/Cliparts/01_Kate Hadfield/DoctorsAndNurse...</td>\n",
       "    </tr>\n",
       "  </tbody>\n",
       "</table>\n",
       "<p>8217 rows × 1 columns</p>\n",
       "</div>"
      ],
      "text/plain": [
       "                                                   path\n",
       "0       data/Cliparts/01_Kate Hadfield/logo-cropped.png\n",
       "1     data/Cliparts/01_Kate Hadfield/EggHunting/khad...\n",
       "2     data/Cliparts/01_Kate Hadfield/EggHunting/khad...\n",
       "3     data/Cliparts/01_Kate Hadfield/EggHunting/khad...\n",
       "4     data/Cliparts/01_Kate Hadfield/EggHunting/khad...\n",
       "...                                                 ...\n",
       "8212  data/Cliparts/01_Kate Hadfield/DoctorsAndNurse...\n",
       "8213  data/Cliparts/01_Kate Hadfield/DoctorsAndNurse...\n",
       "8214  data/Cliparts/01_Kate Hadfield/DoctorsAndNurse...\n",
       "8215  data/Cliparts/01_Kate Hadfield/DoctorsAndNurse...\n",
       "8216  data/Cliparts/01_Kate Hadfield/DoctorsAndNurse...\n",
       "\n",
       "[8217 rows x 1 columns]"
      ]
     },
     "execution_count": 22,
     "metadata": {},
     "output_type": "execute_result"
    }
   ],
   "source": [
    "img_paths=glob.glob(\"data/Cliparts/01_Kate Hadfield/**/*.png\", recursive=True)\n",
    "imgs=pd.DataFrame({'path':img_paths})\n",
    "imgs"
   ]
  },
  {
   "cell_type": "code",
   "execution_count": 23,
   "metadata": {},
   "outputs": [
    {
     "data": {
      "text/html": [
       "<div>\n",
       "<style scoped>\n",
       "    .dataframe tbody tr th:only-of-type {\n",
       "        vertical-align: middle;\n",
       "    }\n",
       "\n",
       "    .dataframe tbody tr th {\n",
       "        vertical-align: top;\n",
       "    }\n",
       "\n",
       "    .dataframe thead th {\n",
       "        text-align: right;\n",
       "    }\n",
       "</style>\n",
       "<table border=\"1\" class=\"dataframe\">\n",
       "  <thead>\n",
       "    <tr style=\"text-align: right;\">\n",
       "      <th></th>\n",
       "      <th>path</th>\n",
       "      <th>text</th>\n",
       "    </tr>\n",
       "  </thead>\n",
       "  <tbody>\n",
       "    <tr>\n",
       "      <th>0</th>\n",
       "      <td>data/Cliparts/01_Kate Hadfield/logo-cropped.png</td>\n",
       "      <td>data Cliparts 01 Kate Hadfield logo cropped png</td>\n",
       "    </tr>\n",
       "    <tr>\n",
       "      <th>1</th>\n",
       "      <td>data/Cliparts/01_Kate Hadfield/EggHunting/khad...</td>\n",
       "      <td>data Cliparts 01 Kate Hadfield EggHunting khad...</td>\n",
       "    </tr>\n",
       "    <tr>\n",
       "      <th>2</th>\n",
       "      <td>data/Cliparts/01_Kate Hadfield/EggHunting/khad...</td>\n",
       "      <td>data Cliparts 01 Kate Hadfield EggHunting khad...</td>\n",
       "    </tr>\n",
       "    <tr>\n",
       "      <th>3</th>\n",
       "      <td>data/Cliparts/01_Kate Hadfield/EggHunting/khad...</td>\n",
       "      <td>data Cliparts 01 Kate Hadfield EggHunting khad...</td>\n",
       "    </tr>\n",
       "    <tr>\n",
       "      <th>4</th>\n",
       "      <td>data/Cliparts/01_Kate Hadfield/EggHunting/khad...</td>\n",
       "      <td>data Cliparts 01 Kate Hadfield EggHunting khad...</td>\n",
       "    </tr>\n",
       "    <tr>\n",
       "      <th>...</th>\n",
       "      <td>...</td>\n",
       "      <td>...</td>\n",
       "    </tr>\n",
       "    <tr>\n",
       "      <th>8212</th>\n",
       "      <td>data/Cliparts/01_Kate Hadfield/DoctorsAndNurse...</td>\n",
       "      <td>data Cliparts 01 Kate Hadfield DoctorsAndNurse...</td>\n",
       "    </tr>\n",
       "    <tr>\n",
       "      <th>8213</th>\n",
       "      <td>data/Cliparts/01_Kate Hadfield/DoctorsAndNurse...</td>\n",
       "      <td>data Cliparts 01 Kate Hadfield DoctorsAndNurse...</td>\n",
       "    </tr>\n",
       "    <tr>\n",
       "      <th>8214</th>\n",
       "      <td>data/Cliparts/01_Kate Hadfield/DoctorsAndNurse...</td>\n",
       "      <td>data Cliparts 01 Kate Hadfield DoctorsAndNurse...</td>\n",
       "    </tr>\n",
       "    <tr>\n",
       "      <th>8215</th>\n",
       "      <td>data/Cliparts/01_Kate Hadfield/DoctorsAndNurse...</td>\n",
       "      <td>data Cliparts 01 Kate Hadfield DoctorsAndNurse...</td>\n",
       "    </tr>\n",
       "    <tr>\n",
       "      <th>8216</th>\n",
       "      <td>data/Cliparts/01_Kate Hadfield/DoctorsAndNurse...</td>\n",
       "      <td>data Cliparts 01 Kate Hadfield DoctorsAndNurse...</td>\n",
       "    </tr>\n",
       "  </tbody>\n",
       "</table>\n",
       "<p>8217 rows × 2 columns</p>\n",
       "</div>"
      ],
      "text/plain": [
       "                                                   path  \\\n",
       "0       data/Cliparts/01_Kate Hadfield/logo-cropped.png   \n",
       "1     data/Cliparts/01_Kate Hadfield/EggHunting/khad...   \n",
       "2     data/Cliparts/01_Kate Hadfield/EggHunting/khad...   \n",
       "3     data/Cliparts/01_Kate Hadfield/EggHunting/khad...   \n",
       "4     data/Cliparts/01_Kate Hadfield/EggHunting/khad...   \n",
       "...                                                 ...   \n",
       "8212  data/Cliparts/01_Kate Hadfield/DoctorsAndNurse...   \n",
       "8213  data/Cliparts/01_Kate Hadfield/DoctorsAndNurse...   \n",
       "8214  data/Cliparts/01_Kate Hadfield/DoctorsAndNurse...   \n",
       "8215  data/Cliparts/01_Kate Hadfield/DoctorsAndNurse...   \n",
       "8216  data/Cliparts/01_Kate Hadfield/DoctorsAndNurse...   \n",
       "\n",
       "                                                   text  \n",
       "0       data Cliparts 01 Kate Hadfield logo cropped png  \n",
       "1     data Cliparts 01 Kate Hadfield EggHunting khad...  \n",
       "2     data Cliparts 01 Kate Hadfield EggHunting khad...  \n",
       "3     data Cliparts 01 Kate Hadfield EggHunting khad...  \n",
       "4     data Cliparts 01 Kate Hadfield EggHunting khad...  \n",
       "...                                                 ...  \n",
       "8212  data Cliparts 01 Kate Hadfield DoctorsAndNurse...  \n",
       "8213  data Cliparts 01 Kate Hadfield DoctorsAndNurse...  \n",
       "8214  data Cliparts 01 Kate Hadfield DoctorsAndNurse...  \n",
       "8215  data Cliparts 01 Kate Hadfield DoctorsAndNurse...  \n",
       "8216  data Cliparts 01 Kate Hadfield DoctorsAndNurse...  \n",
       "\n",
       "[8217 rows x 2 columns]"
      ]
     },
     "execution_count": 23,
     "metadata": {},
     "output_type": "execute_result"
    }
   ],
   "source": [
    "imgs['text']=imgs['path'].apply(lambda p:\" \".join(rg.split(r'[\\\\|/_\\\\.-]', p)).strip())\n",
    "imgs"
   ]
  },
  {
   "cell_type": "code",
   "execution_count": 25,
   "metadata": {},
   "outputs": [
    {
     "data": {
      "application/vnd.jupyter.widget-view+json": {
       "model_id": "29e2c1a7bb42454a9394b1a13bf33159",
       "version_major": 2,
       "version_minor": 0
      },
      "text/plain": [
       "encoding imgs:   0%|          | 0/8217 [00:00<?, ?it/s]"
      ]
     },
     "metadata": {},
     "output_type": "display_data"
    },
    {
     "name": "stdout",
     "output_type": "stream",
     "text": [
      "cannot identify image file 'data/Cliparts/01_Kate Hadfield/GraduationStamps/BOLD/khadfield_GraduationStampsBOLD_star3.png'\n",
      "cannot identify image file 'data/Cliparts/01_Kate Hadfield/WeAllScreamForIceCream/WeAllScreamForIceCreamStamps/BOLD/khadfield_WASFIceCreamStamps_BOLD_waferstick1.png'\n",
      "cannot identify image file 'data/Cliparts/01_Kate Hadfield/FruitStand/khadfield_FruitStand_lemonslice2.png'\n",
      "cannot identify image file 'data/Cliparts/01_Kate Hadfield/MyKindaPet2/khadfield_MyKindaPet2_spider.png'\n",
      "cannot identify image file 'data/Cliparts/01_Kate Hadfield/AVeryGermanChristmas/khadfield_AVeryGermanChristmas_adventcalendar2.png'\n",
      "cannot identify image file 'data/Cliparts/01_Kate Hadfield/AVeryGermanChristmas/AVeryGermanChristmasStamps/DIGITAL STAMPS/khadfield_AVeryGermanChristmasStamps_threekingscake_2.png'\n",
      "cannot identify image file 'data/Cliparts/01_Kate Hadfield/WeekendAtHome/khadfield_WeekendAtHome_birdhouse.png'\n",
      "cannot identify image file 'data/Cliparts/01_Kate Hadfield/SolarSystem/khadfield_SolarSystem_moon3.png'\n"
     ]
    }
   ],
   "source": [
    "imgs[\"blip_text\"] = \"\"\n",
    "for i, img in tqdm(list(imgs.iterrows()), \"encoding imgs\"):\n",
    "    img_dat = openImg(img[\"path\"])\n",
    "    if img_dat is not None:\n",
    "        # img_dat=torch.Tensor(img_dat).to(device)\n",
    "        inputs = processor(images=img_dat, return_tensors=\"pt\").to(device)\n",
    "        out = model.generate(max_new_tokens=128, **inputs)\n",
    "        text = processor.decode(out[0], skip_special_tokens=True)\n",
    "        imgs.loc[i, \"blip_text\"] = text"
   ]
  },
  {
   "cell_type": "code",
   "execution_count": null,
   "metadata": {},
   "outputs": [],
   "source": [
    "# imgs.to_json('data/img_descriptions.json', orient='records')"
   ]
  },
  {
   "cell_type": "code",
   "execution_count": null,
   "metadata": {},
   "outputs": [],
   "source": [
    "# imgs=pd.read_json('data/img_descriptions.json', orient='records')"
   ]
  },
  {
   "cell_type": "code",
   "execution_count": 28,
   "metadata": {},
   "outputs": [
    {
     "name": "stdout",
     "output_type": "stream",
     "text": [
      "['data Cliparts 01 Kate Hadfield CalendarYear khadfield CalendarYear Easterbasket png', 'data Cliparts 01 Kate Hadfield BigTop khadfield BigTop ball png', 'data Cliparts 01 Kate Hadfield BigTop BigTopStamps LINE ART khadfield BigTopStamps ball png', 'data Cliparts 01 Kate Hadfield BigTop BigTopStamps DIGITAL STAMPS khadfield BigTopStamps ball 2 png', 'data Cliparts 01 Kate Hadfield AnimalAntics AnimalAnticsStamps LINE ART khadfield AnimalAnticsStamps ball png', 'data Cliparts 01 Kate Hadfield AnimalAntics AnimalAnticsStamps DIGITAL STAMPS khadfield AnimalAnticsStamps ball 2 png', 'data Cliparts 01 Kate Hadfield CalendarYear khadfield CalendarYear easteregg png', 'data Cliparts 01 Kate Hadfield EggHunting khadfield EggHunting basket1 png', 'data Cliparts 01 Kate Hadfield Prehistoric PrehistoricStamps BOLD khadfield PrehistoricStamps BOLD egg1 png', 'data Cliparts 01 Kate Hadfield Prehistoric PrehistoricStamps LINE ART khadfield PrehistoricStamps egg1 png']\n"
     ]
    }
   ],
   "source": [
    "imgs[\"full_text\"] = imgs[\"text\"] + \" \" + imgs[\"blip_text\"]\n",
    "\n",
    "\n",
    "def calculate_similarity_tfidf(query, k=20, col='full_text'):\n",
    "    relevant_docs = []\n",
    "\n",
    "    documents = imgs[col].to_list()\n",
    "\n",
    "    tfidf_vectorizer = TfidfVectorizer()\n",
    "    tfidf_matrix = tfidf_vectorizer.fit_transform(documents)\n",
    "\n",
    "    query_tfidf = tfidf_vectorizer.transform([query])\n",
    "    cosine_similarities = cosine_similarity(query_tfidf, tfidf_matrix)[0]\n",
    "    document_ranks = sorted(\n",
    "        enumerate(cosine_similarities), key=lambda x: x[1], reverse=True\n",
    "    )[:k]\n",
    "\n",
    "    for rank, score in document_ranks:\n",
    "        # print(f\"{documents[rank]}: Similarity Score = {score:.4f}\")\n",
    "        relevant_docs.append(imgs.loc[rank, \"text\"])\n",
    "\n",
    "    return relevant_docs\n",
    "\n",
    "\n",
    "relevant_docs = calculate_similarity_tfidf(\"easter\", 10)\n",
    "print(relevant_docs)"
   ]
  },
  {
   "cell_type": "code",
   "execution_count": 37,
   "metadata": {},
   "outputs": [],
   "source": [
    "def precision_air(target, pred, k=20):\n",
    "    rel_set = set(target)\n",
    "    # print(rel_set)\n",
    "    doc_set = set(pred[:k])\n",
    "    tp = len(doc_set.intersection(rel_set))  # docs that are in both -relevant docs\n",
    "    fp = len(\n",
    "        doc_set.difference(rel_set)\n",
    "    )  # docs that are not in relevant set - irrelevant docs (false positiv)\n",
    "    fn = len(\n",
    "        rel_set.difference(doc_set)\n",
    "    )  # relevant docs that are not present in doc set - missing docs\n",
    "    if tp == 0:\n",
    "        return 0\n",
    "    precision = tp / (tp + fp)\n",
    "    return precision"
   ]
  },
  {
   "cell_type": "code",
   "execution_count": 38,
   "metadata": {},
   "outputs": [
    {
     "name": "stdout",
     "output_type": "stream",
     "text": [
      "Average precision score (TF-IDF+BLIP, EN): 0.4691910712744045\n",
      "Average precision score (TF-IDF+BLIP, DE): 0.027777777777777776\n",
      "Average precision score (TF-IDF, EN): 0.38690576398909726\n",
      "Average precision score (TF-IDF, DE): 0.027777777777777776\n"
     ]
    }
   ],
   "source": [
    "# TF-IDF as baseline\n",
    "def eval_query(\n",
    "    q,\n",
    "    ground_truth: dict[str, list[str]],\n",
    "    col: str = \"full_text\",\n",
    "    metric=precision_score,\n",
    "):\n",
    "    scores = []\n",
    "\n",
    "    for query in ground_truth.keys():\n",
    "        paths = ground_truth[query]\n",
    "\n",
    "        tfidf_predictions = q(query, len(paths), col=col)\n",
    "        f1_score_value = metric(paths, tfidf_predictions)\n",
    "        scores.append(f1_score_value)\n",
    "    return sum(scores) / len(scores)\n",
    "\n",
    "\n",
    "print(\n",
    "    f\"Average precision score (TF-IDF+BLIP, EN): {eval_query(calculate_similarity_tfidf,ground_truth_en, metric=precision_air)}\"\n",
    ")\n",
    "print(\n",
    "    f\"Average precision score (TF-IDF+BLIP, DE): {eval_query(calculate_similarity_tfidf,ground_truth_de, metric=precision_air)}\"\n",
    ")\n",
    "print(\n",
    "    f\"Average precision score (TF-IDF, EN): {eval_query(calculate_similarity_tfidf,ground_truth_en, 'text', metric=precision_air)}\"\n",
    ")\n",
    "print(\n",
    "    f\"Average precision score (TF-IDF, DE): {eval_query(calculate_similarity_tfidf,ground_truth_de, 'text', metric=precision_air)}\"\n",
    ")"
   ]
  }
 ],
 "metadata": {
  "kernelspec": {
   "display_name": "everything",
   "language": "python",
   "name": "python3"
  },
  "language_info": {
   "codemirror_mode": {
    "name": "ipython",
    "version": 3
   },
   "file_extension": ".py",
   "mimetype": "text/x-python",
   "name": "python",
   "nbconvert_exporter": "python",
   "pygments_lexer": "ipython3",
   "version": "3.10.9"
  }
 },
 "nbformat": 4,
 "nbformat_minor": 2
}
